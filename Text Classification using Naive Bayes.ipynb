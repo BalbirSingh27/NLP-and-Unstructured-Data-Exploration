{
 "cells": [
  {
   "cell_type": "markdown",
   "metadata": {
    "id": "sgReYw-olAfx"
   },
   "source": [
    "# **Lab Assignment 3** Foundations of Deep Learning"
   ]
  },
  {
   "cell_type": "markdown",
   "metadata": {
    "id": "eP47Y8TGok6G"
   },
   "source": [
    "## Assignment Metadata\n",
    "\n",
    "- Author name:BALBIR SINGH\n",
    "- ASU ID:1233870107\n",
    "- File creation date:02/12/2025"
   ]
  },
  {
   "cell_type": "markdown",
   "metadata": {
    "id": "4g29lQSovToT"
   },
   "source": [
    "### You must use this provided framework as-is and follow all the directions stated in there:\n",
    "*\tDo NOT edit or otherwise change any part of this framework except the cells you have been instructed to code.\n",
    "*\tYou must NOT import any additional python packages to complete this assignment\n",
    "\n",
    "### Note that, points will be deducted for notebooks that:\n",
    "*\tdo not follow the saving guidelines/naming convention\n",
    "*\tdo not compile/run\n",
    "*\tdo not follow all the instructions in the framework\n",
    "*\tare incomplete\n",
    "*\thave logical errors\n",
    "*\tdon’t result in the expected output\n",
    "\n"
   ]
  },
  {
   "cell_type": "markdown",
   "metadata": {
    "id": "swN48cdllBhr"
   },
   "source": [
    "## Exercise 1 (Gradient Descent)"
   ]
  },
  {
   "cell_type": "markdown",
   "metadata": {
    "id": "RUeyjzDqbAiK"
   },
   "source": [
    "* In this assignment, you will first use the gradient descent algorithm to find the optimal value of w1 which minimizes the given lost function (Steps 1.1 through 1.5). You will earn 5% points for each step and 25% in total.\n",
    "\n",
    "* You will run the algorithm for 4 different scenarios, each with a different value of alpha. For each scenario, you will log the responses in the last cell of this notebook (Step 1.6). You will earn 5% points for each scenario and 20%  in total."
   ]
  },
  {
   "cell_type": "code",
   "execution_count": 1,
   "metadata": {
    "id": "lzBsIAYXbAiM"
   },
   "outputs": [],
   "source": [
    "# DO NOT edit this cell!\n",
    "# You must use this lost function and its derivative as-is\n",
    "\n",
    "# lost at particular value of w1\n",
    "def calc_J(w1):\n",
    "    return (5.5*w1*w1 - 1463*w1 + 100812.5)\n",
    "\n",
    "# slope at particular value of w1\n",
    "def calc_dJ_dw1(w1):\n",
    "    return (11*w1 - 1463)"
   ]
  },
  {
   "cell_type": "code",
   "execution_count": 2,
   "metadata": {},
   "outputs": [
    {
     "name": "stdout",
     "output_type": "stream",
     "text": [
      "\n",
      "Results for Scenario 1 (alpha=0.08):\n",
      "        w1         J\n",
      "0    60.00  32832.50\n",
      "1   124.24   3945.06\n",
      "2   131.95   3529.08\n",
      "3   132.87   3523.09\n",
      "4   132.98   3523.00\n",
      "5   133.00   3523.00\n",
      "6   133.00   3523.00\n",
      "7   133.00   3523.00\n",
      "8   133.00   3523.00\n",
      "9   133.00   3523.00\n",
      "10  133.00   3523.00\n",
      "11  133.00   3523.00\n",
      "12  133.00   3523.00\n",
      "13  133.00   3523.00\n",
      "14  133.00   3523.00\n",
      "15  133.00   3523.00\n",
      "16  133.00   3523.00\n",
      "17  133.00   3523.00\n",
      "18  133.00   3523.00\n",
      "19  133.00   3523.00\n",
      "20  133.00   3523.00\n",
      "21  133.00   3523.00\n",
      "22  133.00   3523.00\n",
      "23  133.00   3523.00\n",
      "24  133.00   3523.00\n",
      "25  133.00   3523.00\n",
      "\n",
      "Results for Scenario 2 (alpha=0.05):\n",
      "        w1         J\n",
      "0    60.00  32832.50\n",
      "1   100.15   9458.17\n",
      "2   118.22   4724.87\n",
      "3   126.35   3766.38\n",
      "4   130.01   3572.28\n",
      "5   131.65   3532.98\n",
      "6   132.39   3525.02\n",
      "7   132.73   3523.41\n",
      "8   132.88   3523.08\n",
      "9   132.94   3523.02\n",
      "10  132.98   3523.00\n",
      "11  132.99   3523.00\n",
      "12  132.99   3523.00\n",
      "13  133.00   3523.00\n",
      "14  133.00   3523.00\n",
      "15  133.00   3523.00\n",
      "16  133.00   3523.00\n",
      "17  133.00   3523.00\n",
      "18  133.00   3523.00\n",
      "19  133.00   3523.00\n",
      "20  133.00   3523.00\n",
      "21  133.00   3523.00\n",
      "22  133.00   3523.00\n",
      "23  133.00   3523.00\n",
      "24  133.00   3523.00\n",
      "25  133.00   3523.00\n",
      "\n",
      "Results for Scenario 3 (alpha=0.15):\n",
      "        w1         J\n",
      "0    60.00  32832.50\n",
      "1   180.45  15906.26\n",
      "2   102.16   8754.93\n",
      "3   153.05   5733.49\n",
      "4   119.97   4456.93\n",
      "5   141.47   3917.59\n",
      "6   127.49   3689.71\n",
      "7   136.58   3593.44\n",
      "8   130.67   3552.76\n",
      "9   134.51   3535.57\n",
      "10  132.02   3528.31\n",
      "11  133.64   3525.24\n",
      "12  132.58   3523.95\n",
      "13  133.27   3523.40\n",
      "14  132.82   3523.17\n",
      "15  133.11   3523.07\n",
      "16  132.93   3523.03\n",
      "17  133.05   3523.01\n",
      "18  132.97   3523.01\n",
      "19  133.02   3523.00\n",
      "20  132.99   3523.00\n",
      "21  133.01   3523.00\n",
      "22  132.99   3523.00\n",
      "23  133.00   3523.00\n",
      "24  133.00   3523.00\n",
      "25  133.00   3523.00\n",
      "\n",
      "Results for Scenario 4 (alpha=0.19):\n",
      "        w1           J\n",
      "0    60.00    32832.50\n",
      "1   212.57    38345.62\n",
      "2    46.27    44895.75\n",
      "3   227.54    52677.97\n",
      "4    29.95    61924.01\n",
      "5   245.32    72909.25\n",
      "6    10.57    85960.80\n",
      "7   266.45   101467.35\n",
      "8   -12.46   119890.68\n",
      "9   291.55   141779.44\n",
      "10  -39.82   167785.48\n",
      "11  321.37   198683.25\n",
      "12  -72.32   235392.89\n",
      "13  356.80   279007.62\n",
      "14 -110.95   330826.28\n",
      "15  398.90   392392.02\n",
      "16 -156.83   465538.29\n",
      "17  448.92   552443.36\n",
      "18 -211.35   655695.28\n",
      "19  508.34   778368.89\n",
      "20 -276.12   924117.40\n",
      "21  578.94  1097281.20\n",
      "22 -353.08  1303017.12\n",
      "23  662.82  1547451.97\n",
      "24 -444.51  1837865.00\n",
      "25  762.48  2182904.73\n"
     ]
    }
   ],
   "source": [
    "# First, complete coding Steps 1.1 through 1.5 in this cell.\n",
    "# Then, run this cell for each of the four scenarios below,\n",
    "# and log your responses for each scenario run in the next cell (Step 1.6)\n",
    "alpha=0.08; niterations = 25; w1 = 60 # Scenario 1\n",
    "# alpha=0.05; niterations = 25; w1 = 60 # Scenario 2\n",
    "# alpha=0.15; niterations = 25; w1 = 60 # Scenario 3\n",
    "# alpha=0.19; niterations = 25; w1 = 60 # Scenario 4\n",
    "\n",
    "# Function to run gradient descent for different scenarios\n",
    "import pandas as pd\n",
    "\n",
    "def run_gradient_descent(alpha, niterations, w1):\n",
    "    results = []\n",
    "\n",
    "    # Step 1.1: Calculate initial cost function value\n",
    "    J = 5.5 * w1**2 - 1463 * w1 + 100812.5\n",
    "    \n",
    "    # Step 1.2: Store initial values\n",
    "    results.append((round(w1, 2), round(J, 2)))\n",
    "\n",
    "    # Run gradient descent for niterations\n",
    "    for i in range(niterations):\n",
    "        # Step 1.3: Update w1 using gradient descent\n",
    "        w1 = w1 - alpha * (11 * w1 - 1463)\n",
    "\n",
    "        # Step 1.4: Compute new J\n",
    "        J = 5.5 * w1**2 - 1463 * w1 + 100812.5\n",
    "\n",
    "        # Step 1.5: Store results\n",
    "        results.append((round(w1, 2), round(J, 2)))\n",
    "\n",
    "    return results\n",
    "\n",
    "# Running all four scenarios\n",
    "scenarios = {\n",
    "    \"Scenario 1 (alpha=0.08)\": run_gradient_descent(0.08, 25, 60),\n",
    "    \"Scenario 2 (alpha=0.05)\": run_gradient_descent(0.05, 25, 60),\n",
    "    \"Scenario 3 (alpha=0.15)\": run_gradient_descent(0.15, 25, 60),\n",
    "    \"Scenario 4 (alpha=0.19)\": run_gradient_descent(0.19, 25, 60),\n",
    "}\n",
    "\n",
    "# Displaying results\n",
    "for scenario, data in scenarios.items():\n",
    "    df_results = pd.DataFrame(data, columns=[\"w1\", \"J\"])\n",
    "    print(f\"\\nResults for {scenario}:\")\n",
    "    print(df_results)\n"
   ]
  },
  {
   "cell_type": "markdown",
   "metadata": {
    "id": "s8XQpscNbAiO"
   },
   "source": [
    "# Step 1.6: for each Scenario, answer the following questions based on the output (20%)\n",
    "- Type your answers below for each question\n",
    "# Scenario 1 (alpha=0.08; niterations = 25; w1 = 60):\n",
    "- Did the cost steadily decrease as training progressed?\n",
    "\n",
    "  Yes, the cost 𝐽 steadily decreased until it reached a stable value.\n",
    "- Did the gradient descent algorithm converge?\n",
    " \n",
    "  Yes, it converged around iteration 5 when J=3523.00\n",
    "- What is the minimum lost?\n",
    "\n",
    "  3523.00\n",
    "- What is the optimal value of w1?\n",
    "\n",
    "  133.00\n",
    "- In how many iterations did gradient descent converge (at which row # in the output)?\n",
    "\n",
    "  5 iterations\n",
    "\n",
    "# Scenario 2 (alpha=0.05; niterations = 25; w1 = 60):\n",
    "- Did the cost steadily decrease as training progressed?\n",
    "\n",
    "  Yes, it decreased smoothly and reached a stable value.\n",
    "- Did the gradient descent algorithm converge?\n",
    "\n",
    "  Yes it converged around iteration 13 when J= 3523.00\n",
    "- What is the minimum lost?\n",
    "\n",
    "  3523.00\n",
    "- What is the optimal value of w1?\n",
    "\n",
    "  133.00\n",
    "- In how many iterations did gradient descent converge (at which row # in the output)?\n",
    "\n",
    "  13 iterations\n",
    "\n",
    "# Scenario 3 (alpha=0.15; niterations = 25; w1 = 60):\n",
    "- Did the cost steadily decrease as training progressed?\n",
    "\n",
    "  Yes, although it fluctuated more initially before stabilizing.\n",
    "- Did the gradient descent algorithm converge?\n",
    "\n",
    "  Yes, it converged around iteration 19 when J =3523.00\n",
    "- What is the minimum lost?\n",
    "\n",
    "  3523.00\n",
    "- What is the optimal value of w1?\n",
    "\n",
    "  133.00\n",
    "- In how many iterations did gradient descent converge (at which row # in the output)?\n",
    "\n",
    "  19 iterations\n",
    "\n",
    "# Scenario 4 (alpha=0.19; niterations = 25; w1 = 60):\n",
    "- Did the cost steadily decrease as training progressed?\n",
    "\n",
    "  No, the cost fluctuated wildly and started increasing exponentially.\n",
    "- Did the gradient descent algorithm converge?\n",
    "\n",
    "  No, the algorithm diverged as the learning rate was too high\n",
    "- What is the minimum lost?\n",
    "\n",
    "  The loss did not minimize; instead, it exploded to over 2 million\n",
    "- What is the optimal value of w1?\n",
    "\n",
    "  No optimal value was found since the algorithm diverged.\n",
    "- In how many iterations did gradient descent converge (at which row # in the output)?\n",
    "\n",
    "  It did not converge."
   ]
  },
  {
   "cell_type": "markdown",
   "metadata": {
    "id": "16sJ8vw2lFf7"
   },
   "source": [
    "## Exercise 2 (Single Neuron)"
   ]
  },
  {
   "cell_type": "markdown",
   "metadata": {
    "id": "PgCVy2aUgUMj"
   },
   "source": [
    "### Then, you will apply deep learning thinking in modeling a single neuron to build logistic regression and linear regression models. You need also to Apply the idea of vectorization to efficiently train your models and implement gradient descent from scratch (using multiple iterations of the forward pass, backward propagation, and gradient descent steps) to minimize the loss functions and determine model parameters.\n",
    "\n",
    "### Specifically, there are two parts in this assignment:\n",
    "* In the first part, you will train a logistic regression model using the breast cancer data set. This part has 7 parts (2.1.1 through 2.1.7) that you will need to code (see framework for more details).\n",
    "* In the second part, you will train a linear regression model using the diabetes data set. This part has 7 parts (2.2.1 through 2.2.7) that you will need to code (see framework for more details)."
   ]
  },
  {
   "cell_type": "code",
   "execution_count": 3,
   "metadata": {
    "id": "VM2vgB55gcPu"
   },
   "outputs": [],
   "source": [
    "### DO NOT EDIT THIS CELL!!!\n",
    "### DO NOT IMPORT ANY ADDITIONAL PACKAGES\n",
    "\n",
    "import numpy as np\n",
    "import scipy\n",
    "from sklearn import metrics\n",
    "import matplotlib.pyplot as plt\n",
    "%matplotlib inline"
   ]
  },
  {
   "cell_type": "markdown",
   "metadata": {
    "id": "SG7_IZIVhzGZ"
   },
   "source": [
    "### PART 1\n",
    "\n",
    "* Logistic Regression for Binary Classification using the breast cancer dataset\n",
    "\n",
    "* We aren't going to preprocess data or split into train/test since the focus here is purely on the gradient descent algorithm\n",
    "\n",
    "* NOTE: YOU WILL ONLY EDIT ONE CELL FOR PART-1 (SEE BELOW) (5% for each step, but 25% in total)"
   ]
  },
  {
   "cell_type": "code",
   "execution_count": 4,
   "metadata": {
    "id": "2P8AGX0PhoCA"
   },
   "outputs": [
    {
     "name": "stdout",
     "output_type": "stream",
     "text": [
      "X:  (569, 30)\n",
      "y:  (569, 1)\n",
      "m:  569\n",
      "n:  30\n",
      "features:  ['mean radius' 'mean texture' 'mean perimeter' 'mean area'\n",
      " 'mean smoothness' 'mean compactness' 'mean concavity'\n",
      " 'mean concave points' 'mean symmetry' 'mean fractal dimension'\n",
      " 'radius error' 'texture error' 'perimeter error' 'area error'\n",
      " 'smoothness error' 'compactness error' 'concavity error'\n",
      " 'concave points error' 'symmetry error' 'fractal dimension error'\n",
      " 'worst radius' 'worst texture' 'worst perimeter' 'worst area'\n",
      " 'worst smoothness' 'worst compactness' 'worst concavity'\n",
      " 'worst concave points' 'worst symmetry' 'worst fractal dimension']\n"
     ]
    }
   ],
   "source": [
    "### DO NOT EDIT THIS CELL!!!\n",
    "\n",
    "# read the breast cancer dataset from sklearn\n",
    "from sklearn.datasets import load_breast_cancer\n",
    "\n",
    "dataset = load_breast_cancer()\n",
    "\n",
    "# feature matrix X: mxn\n",
    "X = dataset.data\n",
    "print (\"X: \", X.shape)\n",
    "\n",
    "# target vector y: mx1\n",
    "y = dataset.target\n",
    "y = y.reshape(y.shape[0], 1)\n",
    "print (\"y: \", y.shape)\n",
    "\n",
    "# number of samples: m\n",
    "m = X.shape[0]\n",
    "print (\"m: \", m)\n",
    "\n",
    "# number of features: n\n",
    "n = X.shape[1]\n",
    "features = dataset.feature_names\n",
    "print (\"n: \",n)\n",
    "print (\"features: \", features)"
   ]
  },
  {
   "cell_type": "code",
   "execution_count": 5,
   "metadata": {},
   "outputs": [
    {
     "data": {
      "image/png": "[encoded data removed]",
      "text/plain": [
       "<Figure size 800x500 with 1 Axes>"
      ]
     },
     "metadata": {},
     "output_type": "display_data"
    },
    {
     "name": "stdout",
     "output_type": "stream",
     "text": [
      "Final Training Accuracy: 0.9191564147627417\n"
     ]
    }
   ],
   "source": [
    "# === THIS IS THE ONLY CELL YOU MUST EDIT FOR PART-1 ===\n",
    "# Import necessary libraries\n",
    "import numpy as np\n",
    "import matplotlib.pyplot as plt\n",
    "from sklearn import metrics\n",
    "from sklearn.datasets import load_breast_cancer\n",
    "\n",
    "# Train the logistic regression model\n",
    "\n",
    "# (2.1.1) Initialize hyperparameters\n",
    "nepochs = 5000  # Number of iterations\n",
    "alpha = 2.5e-6  # Learning rate\n",
    "\n",
    "# (2.1.1) Initialize model parameters w and b\n",
    "w = np.zeros((n, 1))  # Initialize weights to zero\n",
    "b = 0  # Initialize bias to zero\n",
    "\n",
    "# This list will collect loss for each iteration\n",
    "costs = []\n",
    "\n",
    "# Sigmoid function\n",
    "def sigmoid(z):\n",
    "    return 1 / (1 + np.exp(-z))\n",
    "\n",
    "# (2.1.1) Training loop for nepochs\n",
    "for epoch in range(nepochs):\n",
    "    # (2.1.2) Forward pass: Compute z and apply sigmoid activation\n",
    "    z = np.dot(X, w) + b\n",
    "    y_hat = sigmoid(z)\n",
    "\n",
    "    # Compute loss using Binary Cross-Entropy\n",
    "    loss = -np.mean(y * np.log(y_hat + 1e-15) + (1 - y) * np.log(1 - y_hat + 1e-15))\n",
    "    costs.append(loss)\n",
    "\n",
    "    # (2.1.3) Backward propagation: Compute gradients\n",
    "    dw = np.dot(X.T, (y_hat - y)) / m\n",
    "    db = np.sum(y_hat - y) / m\n",
    "\n",
    "    # (2.1.4) Gradient Descent Update\n",
    "    w -= alpha * dw\n",
    "    b -= alpha * db\n",
    "\n",
    "# (2.1.6) Compute final accuracy\n",
    "y_pred = np.round(sigmoid(np.dot(X, w) + b))  # Convert probabilities to binary labels\n",
    "accuracy = metrics.accuracy_score(y, y_pred)\n",
    "\n",
    "# (2.1.7) Plot loss curve\n",
    "plt.figure(figsize=(8, 5))\n",
    "plt.plot(costs, label=\"Loss over iterations\")\n",
    "plt.xlabel(\"Iterations\")\n",
    "plt.ylabel(\"Loss\")\n",
    "plt.title(\"Logistic Regression: Loss vs Iterations\")\n",
    "plt.legend()\n",
    "plt.show()\n",
    "\n",
    "# Print final accuracy\n",
    "print(\"Final Training Accuracy:\", accuracy)\n"
   ]
  },
  {
   "cell_type": "code",
   "execution_count": 6,
   "metadata": {
    "id": "9C3LactGiB2c"
   },
   "outputs": [
    {
     "name": "stdout",
     "output_type": "stream",
     "text": [
      "0.92\n"
     ]
    }
   ],
   "source": [
    "### DO NOT EDIT THIS CELL!!!\n",
    "\n",
    "# compare results from your implementation to that of SGDClassifier\n",
    "# your accuracy score above should match (or be very close to) what you get from here\n",
    "\n",
    "nepochs = 5000\n",
    "alpha = 2.5e-6\n",
    "y = y.reshape(y.shape[0],) # to avoid warning\n",
    "\n",
    "from sklearn.linear_model import SGDClassifier\n",
    "clf = SGDClassifier(loss='log_loss', # loss function for logistic regression\n",
    "                    penalty=None, alpha=0, # no regularization\n",
    "                    max_iter=nepochs, tol=None, # stop based only on nepochs\n",
    "                    shuffle=False, random_state=0, # don't shuffle, use random state to replicate results\n",
    "                    learning_rate='constant', eta0=alpha) # constant learning rate of alpha\n",
    "clf.fit(X,y)\n",
    "print (round(clf.score(X,y),2))"
   ]
  },
  {
   "cell_type": "markdown",
   "metadata": {
    "id": "gYG7VIaliH4K"
   },
   "source": [
    "### Part 2\n",
    "\n",
    "* Linear Regression using the diabetes dataset\n",
    "\n",
    "* We aren't going to preprocess data or split  into train/test since the focus here is purely on the gradient descent algorithm\n",
    "\n",
    "* NOTE: YOU WILL ONLY EDIT ONE CELL FOR PART-2 (SEE BELOW) (5% for each step, but 25% in total)"
   ]
  },
  {
   "cell_type": "code",
   "execution_count": 7,
   "metadata": {
    "id": "lli8Djc-Y1Pm"
   },
   "outputs": [
    {
     "name": "stdout",
     "output_type": "stream",
     "text": [
      "X:  (442, 10)\n",
      "y:  (442, 1)\n",
      "m:  442\n",
      "n:  10\n",
      "features:  ['age', 'sex', 'bmi', 'bp', 's1', 's2', 's3', 's4', 's5', 's6']\n"
     ]
    }
   ],
   "source": [
    "### DO NOT EDIT THIS CELL!!!\n",
    "\n",
    "# read the diabetes dataset from sklearn\n",
    "from sklearn.datasets import load_diabetes\n",
    "\n",
    "dataset = load_diabetes()\n",
    "\n",
    "# feature matrix X: mxn\n",
    "X = dataset.data\n",
    "print (\"X: \", X.shape)\n",
    "\n",
    "# target vector y: mx1\n",
    "y = dataset.target\n",
    "y = y.reshape(y.shape[0], 1)\n",
    "print (\"y: \", y.shape)\n",
    "\n",
    "# number of samples: m\n",
    "m = X.shape[0]\n",
    "print (\"m: \", m)\n",
    "\n",
    "# number of features: n\n",
    "n = X.shape[1]\n",
    "features = dataset.feature_names\n",
    "print (\"n: \",n)\n",
    "print (\"features: \", features)"
   ]
  },
  {
   "cell_type": "code",
   "execution_count": 8,
   "metadata": {},
   "outputs": [
    {
     "name": "stdout",
     "output_type": "stream",
     "text": [
      "Final Mean Squared Error (MSE): 2878.2652308679494\n",
      "Final R² Score: 0.5146170151856408\n"
     ]
    },
    {
     "data": {
      "image/png": "[encoded data removed]",
      "text/plain": [
       "<Figure size 800x500 with 1 Axes>"
      ]
     },
     "metadata": {},
     "output_type": "display_data"
    }
   ],
   "source": [
    "# === THIS IS THE ONLY CELL YOU MUST EDIT FOR PART-2 ===\n",
    "\n",
    "# Train the linear regression model\n",
    "\n",
    "# (2.2.1) Initialize hyperparameters\n",
    "nepochs = 5000  # Number of iterations\n",
    "alpha = 0.5  # Learning rate\n",
    "\n",
    "# (2.2.1) Initialize model parameters w and b\n",
    "w = np.zeros((n, 1))  # Initialize weights to zero\n",
    "b = 0  # Initialize bias to zero\n",
    "\n",
    "# This list will collect loss for each iteration\n",
    "costs = []\n",
    "\n",
    "# (2.2.1) Training loop for nepochs\n",
    "for epoch in range(nepochs):\n",
    "    # (2.2.2) Forward pass: Compute predictions y_hat\n",
    "    y_hat = np.dot(X, w) + b\n",
    "\n",
    "    # Compute Mean Squared Error (MSE) loss\n",
    "    loss = np.mean((y_hat - y) ** 2)\n",
    "    costs.append(loss)\n",
    "\n",
    "    # (2.2.3) Backward propagation: Compute gradients\n",
    "    dw = (2 / m) * np.dot(X.T, (y_hat - y))\n",
    "    db = (2 / m) * np.sum(y_hat - y)\n",
    "\n",
    "    # (2.2.4) Gradient Descent Update\n",
    "    w -= alpha * dw\n",
    "    b -= alpha * db\n",
    "\n",
    "# (2.2.6) Compute final MSE and R² score\n",
    "from sklearn import metrics\n",
    "\n",
    "y_pred = np.dot(X, w) + b\n",
    "mse = metrics.mean_squared_error(y, y_pred)\n",
    "r2_score = metrics.r2_score(y, y_pred)\n",
    "\n",
    "# Print final evaluation metrics\n",
    "print(\"Final Mean Squared Error (MSE):\", mse)\n",
    "print(\"Final R² Score:\", r2_score)\n",
    "\n",
    "# (2.2.7) Plot loss curve\n",
    "import matplotlib.pyplot as plt\n",
    "\n",
    "plt.figure(figsize=(8, 5))\n",
    "plt.plot(costs, label=\"Loss over iterations\")\n",
    "plt.xlabel(\"Iterations\")\n",
    "plt.ylabel(\"Loss\")\n",
    "plt.title(\"Linear Regression: Loss vs Iterations\")\n",
    "plt.legend()\n",
    "plt.show()"
   ]
  },
  {
   "cell_type": "code",
   "execution_count": 9,
   "metadata": {
    "id": "t0fI3RBEiTGx"
   },
   "outputs": [
    {
     "name": "stdout",
     "output_type": "stream",
     "text": [
      "5723.38\n",
      "0.03\n"
     ]
    }
   ],
   "source": [
    "### DO NOT EDIT THIS CELL!!!\n",
    "\n",
    "# compare results from our implementation to that of SGDRegressor\n",
    "# your mse and r2 score above should match (or be very close to) what you get from here\n",
    "\n",
    "nepochs = 5000\n",
    "alpha = 2.5e-6\n",
    "y = y.reshape(y.shape[0],) # to avoid warning\n",
    "\n",
    "from sklearn.linear_model import SGDRegressor\n",
    "clf = SGDRegressor(loss='squared_error', # mse for linear regression\n",
    "                    penalty=None, alpha=0, # no regularization\n",
    "                    max_iter=nepochs, tol=None, # stop based on only on nepochs\n",
    "                    shuffle=False, random_state=0, # don't shuffle, use random state to replicate results\n",
    "                    learning_rate='constant', eta0=alpha) # constant learning rate of alpha\n",
    "clf.fit(X,y)\n",
    "yhat = clf.predict(X)\n",
    "print (round(metrics.mean_squared_error(y, yhat),2))\n",
    "print (round(clf.score(X,y),2))"
   ]
  },
  {
   "cell_type": "markdown",
   "metadata": {
    "id": "nxneXnBSqLgk"
   },
   "source": [
    "## Acknowledgment\n",
    "- I have used ChatGPT as a GenAI tool to assist in understanding and implementing gradient descent for logistic and linear regression. The tool provided clarifications on concepts, debugging help, and optimized code structure while ensuring that the final implementation adhered to the assignment framework.\n",
    "I have completed the assignment independently and have not collaborated with anyone else in this task."
   ]
  },
  {
   "cell_type": "code",
   "execution_count": 10,
   "metadata": {},
   "outputs": [
    {
     "name": "stdout",
     "output_type": "stream",
     "text": [
      "Requirement already satisfied: jupyter in c:\\users\\balbi\\anaconda\\lib\\site-packages (1.0.0)\n",
      "Requirement already satisfied: notebook in c:\\users\\balbi\\anaconda\\lib\\site-packages (from jupyter) (7.0.8)\n",
      "Requirement already satisfied: qtconsole in c:\\users\\balbi\\anaconda\\lib\\site-packages (from jupyter) (5.5.1)\n",
      "Requirement already satisfied: jupyter-console in c:\\users\\balbi\\anaconda\\lib\\site-packages (from jupyter) (6.6.3)\n",
      "Requirement already satisfied: nbconvert in c:\\users\\balbi\\anaconda\\lib\\site-packages (from jupyter) (7.10.0)\n",
      "Requirement already satisfied: ipykernel in c:\\users\\balbi\\anaconda\\lib\\site-packages (from jupyter) (6.28.0)\n",
      "Requirement already satisfied: ipywidgets in c:\\users\\balbi\\anaconda\\lib\\site-packages (from jupyter) (7.8.1)\n",
      "Requirement already satisfied: comm>=0.1.1 in c:\\users\\balbi\\anaconda\\lib\\site-packages (from ipykernel->jupyter) (0.2.1)\n",
      "Requirement already satisfied: debugpy>=1.6.5 in c:\\users\\balbi\\anaconda\\lib\\site-packages (from ipykernel->jupyter) (1.6.7)\n",
      "Requirement already satisfied: ipython>=7.23.1 in c:\\users\\balbi\\anaconda\\lib\\site-packages (from ipykernel->jupyter) (8.25.0)\n",
      "Requirement already satisfied: jupyter-client>=6.1.12 in c:\\users\\balbi\\anaconda\\lib\\site-packages (from ipykernel->jupyter) (8.6.0)\n",
      "Requirement already satisfied: jupyter-core!=5.0.*,>=4.12 in c:\\users\\balbi\\anaconda\\lib\\site-packages (from ipykernel->jupyter) (5.7.2)\n",
      "Requirement already satisfied: matplotlib-inline>=0.1 in c:\\users\\balbi\\anaconda\\lib\\site-packages (from ipykernel->jupyter) (0.1.6)\n",
      "Requirement already satisfied: nest-asyncio in c:\\users\\balbi\\anaconda\\lib\\site-packages (from ipykernel->jupyter) (1.6.0)\n",
      "Requirement already satisfied: packaging in c:\\users\\balbi\\anaconda\\lib\\site-packages (from ipykernel->jupyter) (23.2)\n",
      "Requirement already satisfied: psutil in c:\\users\\balbi\\anaconda\\lib\\site-packages (from ipykernel->jupyter) (5.9.0)\n",
      "Requirement already satisfied: pyzmq>=24 in c:\\users\\balbi\\anaconda\\lib\\site-packages (from ipykernel->jupyter) (25.1.2)\n",
      "Requirement already satisfied: tornado>=6.1 in c:\\users\\balbi\\anaconda\\lib\\site-packages (from ipykernel->jupyter) (6.4.1)\n",
      "Requirement already satisfied: traitlets>=5.4.0 in c:\\users\\balbi\\anaconda\\lib\\site-packages (from ipykernel->jupyter) (5.14.3)\n",
      "Requirement already satisfied: ipython-genutils~=0.2.0 in c:\\users\\balbi\\anaconda\\lib\\site-packages (from ipywidgets->jupyter) (0.2.0)\n",
      "Requirement already satisfied: widgetsnbextension~=3.6.6 in c:\\users\\balbi\\anaconda\\lib\\site-packages (from ipywidgets->jupyter) (3.6.6)\n",
      "Requirement already satisfied: jupyterlab-widgets<3,>=1.0.0 in c:\\users\\balbi\\anaconda\\lib\\site-packages (from ipywidgets->jupyter) (1.0.0)\n",
      "Requirement already satisfied: prompt-toolkit>=3.0.30 in c:\\users\\balbi\\anaconda\\lib\\site-packages (from jupyter-console->jupyter) (3.0.43)\n",
      "Requirement already satisfied: pygments in c:\\users\\balbi\\anaconda\\lib\\site-packages (from jupyter-console->jupyter) (2.15.1)\n",
      "Requirement already satisfied: beautifulsoup4 in c:\\users\\balbi\\anaconda\\lib\\site-packages (from nbconvert->jupyter) (4.12.3)\n",
      "Requirement already satisfied: bleach!=5.0.0 in c:\\users\\balbi\\anaconda\\lib\\site-packages (from nbconvert->jupyter) (4.1.0)\n",
      "Requirement already satisfied: defusedxml in c:\\users\\balbi\\anaconda\\lib\\site-packages (from nbconvert->jupyter) (0.7.1)\n",
      "Requirement already satisfied: jinja2>=3.0 in c:\\users\\balbi\\anaconda\\lib\\site-packages (from nbconvert->jupyter) (3.1.4)\n",
      "Requirement already satisfied: jupyterlab-pygments in c:\\users\\balbi\\anaconda\\lib\\site-packages (from nbconvert->jupyter) (0.1.2)\n",
      "Requirement already satisfied: markupsafe>=2.0 in c:\\users\\balbi\\anaconda\\lib\\site-packages (from nbconvert->jupyter) (2.1.3)\n",
      "Requirement already satisfied: mistune<4,>=2.0.3 in c:\\users\\balbi\\anaconda\\lib\\site-packages (from nbconvert->jupyter) (2.0.4)\n",
      "Requirement already satisfied: nbclient>=0.5.0 in c:\\users\\balbi\\anaconda\\lib\\site-packages (from nbconvert->jupyter) (0.8.0)\n",
      "Requirement already satisfied: nbformat>=5.7 in c:\\users\\balbi\\anaconda\\lib\\site-packages (from nbconvert->jupyter) (5.9.2)\n",
      "Requirement already satisfied: pandocfilters>=1.4.1 in c:\\users\\balbi\\anaconda\\lib\\site-packages (from nbconvert->jupyter) (1.5.0)\n",
      "Requirement already satisfied: tinycss2 in c:\\users\\balbi\\anaconda\\lib\\site-packages (from nbconvert->jupyter) (1.2.1)\n",
      "Requirement already satisfied: jupyter-server<3,>=2.4.0 in c:\\users\\balbi\\anaconda\\lib\\site-packages (from notebook->jupyter) (2.14.1)\n",
      "Requirement already satisfied: jupyterlab-server<3,>=2.22.1 in c:\\users\\balbi\\anaconda\\lib\\site-packages (from notebook->jupyter) (2.25.1)\n",
      "Requirement already satisfied: jupyterlab<4.1,>=4.0.2 in c:\\users\\balbi\\anaconda\\lib\\site-packages (from notebook->jupyter) (4.0.11)\n",
      "Requirement already satisfied: notebook-shim<0.3,>=0.2 in c:\\users\\balbi\\anaconda\\lib\\site-packages (from notebook->jupyter) (0.2.3)\n",
      "Requirement already satisfied: qtpy>=2.4.0 in c:\\users\\balbi\\anaconda\\lib\\site-packages (from qtconsole->jupyter) (2.4.1)\n",
      "Requirement already satisfied: six>=1.9.0 in c:\\users\\balbi\\anaconda\\lib\\site-packages (from bleach!=5.0.0->nbconvert->jupyter) (1.16.0)\n",
      "Requirement already satisfied: webencodings in c:\\users\\balbi\\anaconda\\lib\\site-packages (from bleach!=5.0.0->nbconvert->jupyter) (0.5.1)\n",
      "Requirement already satisfied: decorator in c:\\users\\balbi\\anaconda\\lib\\site-packages (from ipython>=7.23.1->ipykernel->jupyter) (5.1.1)\n",
      "Requirement already satisfied: jedi>=0.16 in c:\\users\\balbi\\anaconda\\lib\\site-packages (from ipython>=7.23.1->ipykernel->jupyter) (0.18.1)\n",
      "Requirement already satisfied: stack-data in c:\\users\\balbi\\anaconda\\lib\\site-packages (from ipython>=7.23.1->ipykernel->jupyter) (0.2.0)\n",
      "Requirement already satisfied: colorama in c:\\users\\balbi\\anaconda\\lib\\site-packages (from ipython>=7.23.1->ipykernel->jupyter) (0.4.6)\n",
      "Requirement already satisfied: python-dateutil>=2.8.2 in c:\\users\\balbi\\anaconda\\lib\\site-packages (from jupyter-client>=6.1.12->ipykernel->jupyter) (2.9.0.post0)\n",
      "Requirement already satisfied: platformdirs>=2.5 in c:\\users\\balbi\\anaconda\\lib\\site-packages (from jupyter-core!=5.0.*,>=4.12->ipykernel->jupyter) (3.10.0)\n",
      "Requirement already satisfied: pywin32>=300 in c:\\users\\balbi\\anaconda\\lib\\site-packages (from jupyter-core!=5.0.*,>=4.12->ipykernel->jupyter) (305.1)\n",
      "Requirement already satisfied: anyio>=3.1.0 in c:\\users\\balbi\\anaconda\\lib\\site-packages (from jupyter-server<3,>=2.4.0->notebook->jupyter) (4.2.0)\n",
      "Requirement already satisfied: argon2-cffi>=21.1 in c:\\users\\balbi\\anaconda\\lib\\site-packages (from jupyter-server<3,>=2.4.0->notebook->jupyter) (21.3.0)\n",
      "Requirement already satisfied: jupyter-events>=0.9.0 in c:\\users\\balbi\\anaconda\\lib\\site-packages (from jupyter-server<3,>=2.4.0->notebook->jupyter) (0.10.0)\n",
      "Requirement already satisfied: jupyter-server-terminals>=0.4.4 in c:\\users\\balbi\\anaconda\\lib\\site-packages (from jupyter-server<3,>=2.4.0->notebook->jupyter) (0.4.4)\n",
      "Requirement already satisfied: overrides>=5.0 in c:\\users\\balbi\\anaconda\\lib\\site-packages (from jupyter-server<3,>=2.4.0->notebook->jupyter) (7.4.0)\n",
      "Requirement already satisfied: prometheus-client>=0.9 in c:\\users\\balbi\\anaconda\\lib\\site-packages (from jupyter-server<3,>=2.4.0->notebook->jupyter) (0.14.1)\n",
      "Requirement already satisfied: pywinpty>=2.0.1 in c:\\users\\balbi\\anaconda\\lib\\site-packages (from jupyter-server<3,>=2.4.0->notebook->jupyter) (2.0.10)\n",
      "Requirement already satisfied: send2trash>=1.8.2 in c:\\users\\balbi\\anaconda\\lib\\site-packages (from jupyter-server<3,>=2.4.0->notebook->jupyter) (1.8.2)\n",
      "Requirement already satisfied: terminado>=0.8.3 in c:\\users\\balbi\\anaconda\\lib\\site-packages (from jupyter-server<3,>=2.4.0->notebook->jupyter) (0.17.1)\n",
      "Requirement already satisfied: websocket-client>=1.7 in c:\\users\\balbi\\anaconda\\lib\\site-packages (from jupyter-server<3,>=2.4.0->notebook->jupyter) (1.8.0)\n",
      "Requirement already satisfied: async-lru>=1.0.0 in c:\\users\\balbi\\anaconda\\lib\\site-packages (from jupyterlab<4.1,>=4.0.2->notebook->jupyter) (2.0.4)\n",
      "Requirement already satisfied: jupyter-lsp>=2.0.0 in c:\\users\\balbi\\anaconda\\lib\\site-packages (from jupyterlab<4.1,>=4.0.2->notebook->jupyter) (2.2.0)\n",
      "Requirement already satisfied: babel>=2.10 in c:\\users\\balbi\\anaconda\\lib\\site-packages (from jupyterlab-server<3,>=2.22.1->notebook->jupyter) (2.11.0)\n",
      "Requirement already satisfied: json5>=0.9.0 in c:\\users\\balbi\\anaconda\\lib\\site-packages (from jupyterlab-server<3,>=2.22.1->notebook->jupyter) (0.9.6)\n",
      "Requirement already satisfied: jsonschema>=4.18.0 in c:\\users\\balbi\\anaconda\\lib\\site-packages (from jupyterlab-server<3,>=2.22.1->notebook->jupyter) (4.19.2)\n",
      "Requirement already satisfied: requests>=2.31 in c:\\users\\balbi\\anaconda\\lib\\site-packages (from jupyterlab-server<3,>=2.22.1->notebook->jupyter) (2.32.2)\n",
      "Requirement already satisfied: fastjsonschema in c:\\users\\balbi\\anaconda\\lib\\site-packages (from nbformat>=5.7->nbconvert->jupyter) (2.16.2)\n",
      "Requirement already satisfied: wcwidth in c:\\users\\balbi\\anaconda\\lib\\site-packages (from prompt-toolkit>=3.0.30->jupyter-console->jupyter) (0.2.5)\n",
      "Requirement already satisfied: soupsieve>1.2 in c:\\users\\balbi\\anaconda\\lib\\site-packages (from beautifulsoup4->nbconvert->jupyter) (2.5)\n",
      "Requirement already satisfied: idna>=2.8 in c:\\users\\balbi\\anaconda\\lib\\site-packages (from anyio>=3.1.0->jupyter-server<3,>=2.4.0->notebook->jupyter) (3.7)\n",
      "Requirement already satisfied: sniffio>=1.1 in c:\\users\\balbi\\anaconda\\lib\\site-packages (from anyio>=3.1.0->jupyter-server<3,>=2.4.0->notebook->jupyter) (1.3.0)\n",
      "Requirement already satisfied: argon2-cffi-bindings in c:\\users\\balbi\\anaconda\\lib\\site-packages (from argon2-cffi>=21.1->jupyter-server<3,>=2.4.0->notebook->jupyter) (21.2.0)\n",
      "Requirement already satisfied: pytz>=2015.7 in c:\\users\\balbi\\anaconda\\lib\\site-packages (from babel>=2.10->jupyterlab-server<3,>=2.22.1->notebook->jupyter) (2024.1)\n",
      "Requirement already satisfied: parso<0.9.0,>=0.8.0 in c:\\users\\balbi\\anaconda\\lib\\site-packages (from jedi>=0.16->ipython>=7.23.1->ipykernel->jupyter) (0.8.3)\n",
      "Requirement already satisfied: attrs>=22.2.0 in c:\\users\\balbi\\anaconda\\lib\\site-packages (from jsonschema>=4.18.0->jupyterlab-server<3,>=2.22.1->notebook->jupyter) (23.1.0)\n",
      "Requirement already satisfied: jsonschema-specifications>=2023.03.6 in c:\\users\\balbi\\anaconda\\lib\\site-packages (from jsonschema>=4.18.0->jupyterlab-server<3,>=2.22.1->notebook->jupyter) (2023.7.1)\n",
      "Requirement already satisfied: referencing>=0.28.4 in c:\\users\\balbi\\anaconda\\lib\\site-packages (from jsonschema>=4.18.0->jupyterlab-server<3,>=2.22.1->notebook->jupyter) (0.30.2)\n",
      "Requirement already satisfied: rpds-py>=0.7.1 in c:\\users\\balbi\\anaconda\\lib\\site-packages (from jsonschema>=4.18.0->jupyterlab-server<3,>=2.22.1->notebook->jupyter) (0.10.6)\n",
      "Requirement already satisfied: python-json-logger>=2.0.4 in c:\\users\\balbi\\anaconda\\lib\\site-packages (from jupyter-events>=0.9.0->jupyter-server<3,>=2.4.0->notebook->jupyter) (2.0.7)\n",
      "Requirement already satisfied: pyyaml>=5.3 in c:\\users\\balbi\\anaconda\\lib\\site-packages (from jupyter-events>=0.9.0->jupyter-server<3,>=2.4.0->notebook->jupyter) (6.0.1)\n",
      "Requirement already satisfied: rfc3339-validator in c:\\users\\balbi\\anaconda\\lib\\site-packages (from jupyter-events>=0.9.0->jupyter-server<3,>=2.4.0->notebook->jupyter) (0.1.4)\n",
      "Requirement already satisfied: rfc3986-validator>=0.1.1 in c:\\users\\balbi\\anaconda\\lib\\site-packages (from jupyter-events>=0.9.0->jupyter-server<3,>=2.4.0->notebook->jupyter) (0.1.1)\n",
      "Requirement already satisfied: charset-normalizer<4,>=2 in c:\\users\\balbi\\anaconda\\lib\\site-packages (from requests>=2.31->jupyterlab-server<3,>=2.22.1->notebook->jupyter) (2.0.4)\n",
      "Requirement already satisfied: urllib3<3,>=1.21.1 in c:\\users\\balbi\\anaconda\\lib\\site-packages (from requests>=2.31->jupyterlab-server<3,>=2.22.1->notebook->jupyter) (2.2.2)\n",
      "Requirement already satisfied: certifi>=2017.4.17 in c:\\users\\balbi\\anaconda\\lib\\site-packages (from requests>=2.31->jupyterlab-server<3,>=2.22.1->notebook->jupyter) (2024.6.2)\n",
      "Requirement already satisfied: executing in c:\\users\\balbi\\anaconda\\lib\\site-packages (from stack-data->ipython>=7.23.1->ipykernel->jupyter) (0.8.3)\n",
      "Requirement already satisfied: asttokens in c:\\users\\balbi\\anaconda\\lib\\site-packages (from stack-data->ipython>=7.23.1->ipykernel->jupyter) (2.0.5)\n",
      "Requirement already satisfied: pure-eval in c:\\users\\balbi\\anaconda\\lib\\site-packages (from stack-data->ipython>=7.23.1->ipykernel->jupyter) (0.2.2)\n",
      "Requirement already satisfied: fqdn in c:\\users\\balbi\\anaconda\\lib\\site-packages (from jsonschema[format-nongpl]>=4.18.0->jupyter-events>=0.9.0->jupyter-server<3,>=2.4.0->notebook->jupyter) (1.5.1)\n",
      "Requirement already satisfied: isoduration in c:\\users\\balbi\\anaconda\\lib\\site-packages (from jsonschema[format-nongpl]>=4.18.0->jupyter-events>=0.9.0->jupyter-server<3,>=2.4.0->notebook->jupyter) (20.11.0)\n",
      "Requirement already satisfied: jsonpointer>1.13 in c:\\users\\balbi\\anaconda\\lib\\site-packages (from jsonschema[format-nongpl]>=4.18.0->jupyter-events>=0.9.0->jupyter-server<3,>=2.4.0->notebook->jupyter) (2.1)\n",
      "Requirement already satisfied: uri-template in c:\\users\\balbi\\anaconda\\lib\\site-packages (from jsonschema[format-nongpl]>=4.18.0->jupyter-events>=0.9.0->jupyter-server<3,>=2.4.0->notebook->jupyter) (1.3.0)\n",
      "Requirement already satisfied: webcolors>=1.11 in c:\\users\\balbi\\anaconda\\lib\\site-packages (from jsonschema[format-nongpl]>=4.18.0->jupyter-events>=0.9.0->jupyter-server<3,>=2.4.0->notebook->jupyter) (24.11.1)\n",
      "Requirement already satisfied: cffi>=1.0.1 in c:\\users\\balbi\\anaconda\\lib\\site-packages (from argon2-cffi-bindings->argon2-cffi>=21.1->jupyter-server<3,>=2.4.0->notebook->jupyter) (1.16.0)\n",
      "Requirement already satisfied: pycparser in c:\\users\\balbi\\anaconda\\lib\\site-packages (from cffi>=1.0.1->argon2-cffi-bindings->argon2-cffi>=21.1->jupyter-server<3,>=2.4.0->notebook->jupyter) (2.21)\n",
      "Requirement already satisfied: arrow>=0.15.0 in c:\\users\\balbi\\anaconda\\lib\\site-packages (from isoduration->jsonschema[format-nongpl]>=4.18.0->jupyter-events>=0.9.0->jupyter-server<3,>=2.4.0->notebook->jupyter) (1.2.3)\n"
     ]
    },
    {
     "name": "stderr",
     "output_type": "stream",
     "text": [
      "\n",
      "[notice] A new release of pip is available: 24.3.1 -> 25.0.1\n",
      "[notice] To update, run: python.exe -m pip install --upgrade pip\n"
     ]
    },
    {
     "name": "stdout",
     "output_type": "stream",
     "text": [
      "Requirement already satisfied: nbconvert in c:\\users\\balbi\\anaconda\\lib\\site-packages (7.10.0)\n",
      "Requirement already satisfied: beautifulsoup4 in c:\\users\\balbi\\anaconda\\lib\\site-packages (from nbconvert) (4.12.3)\n",
      "Requirement already satisfied: bleach!=5.0.0 in c:\\users\\balbi\\anaconda\\lib\\site-packages (from nbconvert) (4.1.0)\n",
      "Requirement already satisfied: defusedxml in c:\\users\\balbi\\anaconda\\lib\\site-packages (from nbconvert) (0.7.1)\n",
      "Requirement already satisfied: jinja2>=3.0 in c:\\users\\balbi\\anaconda\\lib\\site-packages (from nbconvert) (3.1.4)\n",
      "Requirement already satisfied: jupyter-core>=4.7 in c:\\users\\balbi\\anaconda\\lib\\site-packages (from nbconvert) (5.7.2)\n",
      "Requirement already satisfied: jupyterlab-pygments in c:\\users\\balbi\\anaconda\\lib\\site-packages (from nbconvert) (0.1.2)\n",
      "Requirement already satisfied: markupsafe>=2.0 in c:\\users\\balbi\\anaconda\\lib\\site-packages (from nbconvert) (2.1.3)\n",
      "Requirement already satisfied: mistune<4,>=2.0.3 in c:\\users\\balbi\\anaconda\\lib\\site-packages (from nbconvert) (2.0.4)\n",
      "Requirement already satisfied: nbclient>=0.5.0 in c:\\users\\balbi\\anaconda\\lib\\site-packages (from nbconvert) (0.8.0)\n",
      "Requirement already satisfied: nbformat>=5.7 in c:\\users\\balbi\\anaconda\\lib\\site-packages (from nbconvert) (5.9.2)\n",
      "Requirement already satisfied: packaging in c:\\users\\balbi\\anaconda\\lib\\site-packages (from nbconvert) (23.2)\n",
      "Requirement already satisfied: pandocfilters>=1.4.1 in c:\\users\\balbi\\anaconda\\lib\\site-packages (from nbconvert) (1.5.0)\n",
      "Requirement already satisfied: pygments>=2.4.1 in c:\\users\\balbi\\anaconda\\lib\\site-packages (from nbconvert) (2.15.1)\n",
      "Requirement already satisfied: tinycss2 in c:\\users\\balbi\\anaconda\\lib\\site-packages (from nbconvert) (1.2.1)\n",
      "Requirement already satisfied: traitlets>=5.1 in c:\\users\\balbi\\anaconda\\lib\\site-packages (from nbconvert) (5.14.3)\n",
      "Requirement already satisfied: six>=1.9.0 in c:\\users\\balbi\\anaconda\\lib\\site-packages (from bleach!=5.0.0->nbconvert) (1.16.0)\n",
      "Requirement already satisfied: webencodings in c:\\users\\balbi\\anaconda\\lib\\site-packages (from bleach!=5.0.0->nbconvert) (0.5.1)\n",
      "Requirement already satisfied: platformdirs>=2.5 in c:\\users\\balbi\\anaconda\\lib\\site-packages (from jupyter-core>=4.7->nbconvert) (3.10.0)\n",
      "Requirement already satisfied: pywin32>=300 in c:\\users\\balbi\\anaconda\\lib\\site-packages (from jupyter-core>=4.7->nbconvert) (305.1)\n",
      "Requirement already satisfied: jupyter-client>=6.1.12 in c:\\users\\balbi\\anaconda\\lib\\site-packages (from nbclient>=0.5.0->nbconvert) (8.6.0)\n",
      "Requirement already satisfied: fastjsonschema in c:\\users\\balbi\\anaconda\\lib\\site-packages (from nbformat>=5.7->nbconvert) (2.16.2)\n",
      "Requirement already satisfied: jsonschema>=2.6 in c:\\users\\balbi\\anaconda\\lib\\site-packages (from nbformat>=5.7->nbconvert) (4.19.2)\n",
      "Requirement already satisfied: soupsieve>1.2 in c:\\users\\balbi\\anaconda\\lib\\site-packages (from beautifulsoup4->nbconvert) (2.5)\n",
      "Requirement already satisfied: attrs>=22.2.0 in c:\\users\\balbi\\anaconda\\lib\\site-packages (from jsonschema>=2.6->nbformat>=5.7->nbconvert) (23.1.0)\n",
      "Requirement already satisfied: jsonschema-specifications>=2023.03.6 in c:\\users\\balbi\\anaconda\\lib\\site-packages (from jsonschema>=2.6->nbformat>=5.7->nbconvert) (2023.7.1)\n",
      "Requirement already satisfied: referencing>=0.28.4 in c:\\users\\balbi\\anaconda\\lib\\site-packages (from jsonschema>=2.6->nbformat>=5.7->nbconvert) (0.30.2)\n",
      "Requirement already satisfied: rpds-py>=0.7.1 in c:\\users\\balbi\\anaconda\\lib\\site-packages (from jsonschema>=2.6->nbformat>=5.7->nbconvert) (0.10.6)\n",
      "Requirement already satisfied: python-dateutil>=2.8.2 in c:\\users\\balbi\\anaconda\\lib\\site-packages (from jupyter-client>=6.1.12->nbclient>=0.5.0->nbconvert) (2.9.0.post0)\n",
      "Requirement already satisfied: pyzmq>=23.0 in c:\\users\\balbi\\anaconda\\lib\\site-packages (from jupyter-client>=6.1.12->nbclient>=0.5.0->nbconvert) (25.1.2)\n",
      "Requirement already satisfied: tornado>=6.2 in c:\\users\\balbi\\anaconda\\lib\\site-packages (from jupyter-client>=6.1.12->nbclient>=0.5.0->nbconvert) (6.4.1)\n"
     ]
    },
    {
     "name": "stderr",
     "output_type": "stream",
     "text": [
      "\n",
      "[notice] A new release of pip is available: 24.3.1 -> 25.0.1\n",
      "[notice] To update, run: python.exe -m pip install --upgrade pip\n",
      "[NbConvertApp] Converting notebook LA3_Singh_Balbir.ipynb to html\n",
      "[NbConvertApp] WARNING | Alternative text is missing on 2 image(s).\n",
      "[NbConvertApp] Writing 413542 bytes to LA3_Singh_Balbir.html\n"
     ]
    }
   ],
   "source": [
    "# HTML rendering\n",
    "\n",
    "!pip install jupyter\n",
    "!pip install nbconvert\n",
    "!jupyter nbconvert \"LA3_Singh_Balbir.ipynb\" --to html"
   ]
  }
 ],
 "metadata": {
  "colab": {
   "provenance": []
  },
  "kernelspec": {
   "display_name": "Python 3 (ipykernel)",
   "language": "python",
   "name": "python3"
  },
  "language_info": {
   "codemirror_mode": {
    "name": "ipython",
    "version": 3
   },
   "file_extension": ".py",
   "mimetype": "text/x-python",
   "name": "python",
   "nbconvert_exporter": "python",
   "pygments_lexer": "ipython3",
   "version": "3.12.4"
  }
 },
 "nbformat": 4,
 "nbformat_minor": 4
}
